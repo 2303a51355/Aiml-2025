{
  "nbformat": 4,
  "nbformat_minor": 0,
  "metadata": {
    "colab": {
      "provenance": [],
      "authorship_tag": "ABX9TyON2rNasv2mXMSxF6H0d2K3",
      "include_colab_link": true
    },
    "kernelspec": {
      "name": "python3",
      "display_name": "Python 3"
    },
    "language_info": {
      "name": "python"
    }
  },
  "cells": [
    {
      "cell_type": "markdown",
      "metadata": {
        "id": "view-in-github",
        "colab_type": "text"
      },
      "source": [
        "<a href=\"https://colab.research.google.com/github/2303a51355/Aiml-2025/blob/main/2303a51355_B10.ipynb\" target=\"_parent\"><img src=\"https://colab.research.google.com/assets/colab-badge.svg\" alt=\"Open In Colab\"/></a>"
      ]
    },
    {
      "cell_type": "markdown",
      "source": [
        "Prediction of Student Performance in High School\n",
        "\n",
        "1. Identify the top 5 reasons for low performance of students\n",
        "\n",
        "2. Counts the students with Mother and Father Employed. both employed\n",
        "\n",
        "3. Find the max and min age of students in high school\n",
        "\n",
        "4. Name the medium of instruction was most used in school\n",
        "\n",
        "5. What is the role of extra-curricular activities on student performances.\n",
        "\n",
        "6. Apply either Classification Model or Clustering Model to evaluate the dataset."
      ],
      "metadata": {
        "id": "zDvk1I6U5Le5"
      }
    },
    {
      "cell_type": "code",
      "source": [
        "import pandas as pd\n",
        "dataset_path = \"/content/higher+education+students+performance+evaluation.zip\"  # Replace with the actual file path\n",
        "data = pd.read_csv(\"/content/higher+education+students+performance+evaluation.zip\")"
      ],
      "metadata": {
        "id": "xeYWES0K7_yL"
      },
      "execution_count": 69,
      "outputs": []
    },
    {
      "cell_type": "code",
      "source": [
        "import pandas as pd\n",
        "\n",
        "# Sample data\n",
        "data = {\n",
        "    'Study_Habits': [2, 3, 1, 4, 2],\n",
        "    'Environmental_Factors': [3, 2, 4, 1, 3],\n",
        "    'Stress_Mental_Health': [4, 3, 2, 5, 4],\n",
        "    'Learning_Disabilities': [1, 2, 3, 1, 2],\n",
        "    'Motivation_Engagement': [2, 3, 4, 2, 1],\n",
        "    'Performance': [50, 60, 40, 70, 55]\n",
        "}\n",
        "df = pd.DataFrame(data)\n",
        "correlation = df.corr()['Performance'].sort_values()\n",
        "top_5_reasons = correlation.index[:5].tolist()\n",
        "print(\"Top 5 reasons for low performance:\", top_5_reasons)\n"
      ],
      "metadata": {
        "colab": {
          "base_uri": "https://localhost:8080/"
        },
        "id": "cKrflNQYCxR1",
        "outputId": "9c401907-9a21-4f5a-b8f1-426492c8434f"
      },
      "execution_count": 70,
      "outputs": [
        {
          "output_type": "stream",
          "name": "stdout",
          "text": [
            "Top 5 reasons for low performance: ['Environmental_Factors', 'Learning_Disabilities', 'Motivation_Engagement', 'Stress_Mental_Health', 'Study_Habits']\n"
          ]
        }
      ]
    },
    {
      "cell_type": "code",
      "source": [
        "import pandas as pd\n",
        "import zipfile\n",
        "\n",
        "dataset_path = \"/content/higher+education+students+performance+evaluation.zip\"\n",
        "\n",
        "with zipfile.ZipFile(dataset_path, 'r') as zip_ref:\n",
        "    csv_file = zip_ref.namelist()[0]\n",
        "    data = pd.read_csv(zip_ref.open(csv_file))\n",
        "data.columns = data.columns.str.lower()\n",
        "print(data.columns)\n",
        "\n",
        "mjob_col = next((col for col in data.columns if col.lower() == \"mjob\"), None)\n",
        "fjob_col = next((col for col in data.columns if col.lower() == \"fjob\"), None)\n",
        "\n",
        "if mjob_col and fjob_col:\n",
        "    # Corrected indentation for the following line:\n",
        "    both_employed_count = len(data[(data[mjob_col] == \"yes\") & (data[fjob_col] == \"yes\")])\n",
        "    print(f\"Students with both parents employed: {both_employed_count}\")\n",
        "else:\n",
        "    print(\"Error: 'mjob' or 'fjob' column not found in the dataset.\")"
      ],
      "metadata": {
        "colab": {
          "base_uri": "https://localhost:8080/"
        },
        "id": "ETeTV_eQFgEJ",
        "outputId": "f06a8a56-aa02-478b-9955-d9cf8f0b83bd"
      },
      "execution_count": 74,
      "outputs": [
        {
          "output_type": "stream",
          "name": "stdout",
          "text": [
            "Index(['student id', '1', '2', '3', '4', '5', '6', '7', '8', '9', '10', '11',\n",
            "       '12', '13', '14', '15', '16', '17', '18', '19', '20', '21', '22', '23',\n",
            "       '24', '25', '26', '27', '28', '29', '30', 'course id', 'grade'],\n",
            "      dtype='object')\n",
            "Error: 'mjob' or 'fjob' column not found in the dataset.\n"
          ]
        }
      ]
    },
    {
      "cell_type": "code",
      "source": [
        "import pandas as pd\n",
        "import zipfile\n",
        "\n",
        "dataset_path = \"/content/higher+education+students+performance+evaluation.zip\"\n",
        "\n",
        "with zipfile.ZipFile(dataset_path, 'r') as zip_ref:\n",
        "    files_in_zip = zip_ref.namelist()\n",
        "\n",
        "    print(\"Files in the zip archive:\", files_in_zip)\n",
        "\n",
        "    csv_file_name = [f for f in files_in_zip if f.endswith('.csv')][0]\n",
        "\n",
        "    with zip_ref.open(csv_file_name) as file:\n",
        "        data = pd.read_csv(file)\n",
        "print(data.columns)\n",
        "try:\n",
        "    max_age = data[\"Age\"].max()\n",
        "    min_age = data[\"Age\"].min()\n",
        "    print(f\"Maximum age: {max_age}, Minimum age: {min_age}\")\n",
        "except KeyError:\n",
        "    print(\"Column 'Age' not found in the dataset. Please check the column names.\")"
      ],
      "metadata": {
        "colab": {
          "base_uri": "https://localhost:8080/"
        },
        "id": "lO8eZs4F_L-X",
        "outputId": "7bab21cf-74f3-4a19-cbf5-0b7b0ae2e555"
      },
      "execution_count": 75,
      "outputs": [
        {
          "output_type": "stream",
          "name": "stdout",
          "text": [
            "Files in the zip archive: ['DATA (1).csv']\n",
            "Index(['STUDENT ID', '1', '2', '3', '4', '5', '6', '7', '8', '9', '10', '11',\n",
            "       '12', '13', '14', '15', '16', '17', '18', '19', '20', '21', '22', '23',\n",
            "       '24', '25', '26', '27', '28', '29', '30', 'COURSE ID', 'GRADE'],\n",
            "      dtype='object')\n",
            "Column 'Age' not found in the dataset. Please check the column names.\n"
          ]
        }
      ]
    },
    {
      "cell_type": "code",
      "source": [
        "import pandas as pd\n",
        "print(df.columns)\n",
        "medium_col = next((col for col in df.columns if col.lower() == \"medium_of_instruction\"), None)\n",
        "\n",
        "if medium_col:\n",
        "    most_used_medium = df[medium_col].mode()[0]\n",
        "    print(\"Most used medium of instruction:\", most_used_medium)\n",
        "else:\n",
        "    print(\"Error: 'Medium_of_Instruction' or similar column not found in the dataset.\")"
      ],
      "metadata": {
        "colab": {
          "base_uri": "https://localhost:8080/"
        },
        "id": "RJkpcD1tEHKF",
        "outputId": "b3c59f7b-839b-4b35-b780-8155859645f2"
      },
      "execution_count": 76,
      "outputs": [
        {
          "output_type": "stream",
          "name": "stdout",
          "text": [
            "Index(['Study_Habits', 'Environmental_Factors', 'Stress_Mental_Health',\n",
            "       'Learning_Disabilities', 'Motivation_Engagement', 'Performance',\n",
            "       'Cluster'],\n",
            "      dtype='object')\n",
            "Error: 'Medium_of_Instruction' or similar column not found in the dataset.\n"
          ]
        }
      ]
    },
    {
      "cell_type": "code",
      "source": [
        "import pandas as pd\n",
        "from sklearn.model_selection import train_test_split\n",
        "from sklearn.linear_model import LinearRegression\n",
        "\n",
        "print(df.columns)\n",
        "X = df[['Study_Habits', 'Environmental_Factors', 'Stress_Mental_Health']]\n",
        "y = df['Performance']\n",
        "\n",
        "X_train, X_test, y_train, y_test = train_test_split(X, y, test_size=0.3, random_state=42)\n",
        "\n",
        "model = LinearRegression()\n",
        "model.fit(X_train, y_train)\n",
        "\n",
        "y_pred = model.predict(X_test)\n",
        "\n",
        "print(\"Coefficients:\", model.coef_)\n",
        "print(\"Intercept:\", model.intercept_)"
      ],
      "metadata": {
        "colab": {
          "base_uri": "https://localhost:8080/"
        },
        "id": "vS9mY2lCEgGA",
        "outputId": "ac337488-2183-440f-e0cb-91d23a4a351d"
      },
      "execution_count": 77,
      "outputs": [
        {
          "output_type": "stream",
          "name": "stdout",
          "text": [
            "Index(['Study_Habits', 'Environmental_Factors', 'Stress_Mental_Health',\n",
            "       'Learning_Disabilities', 'Motivation_Engagement', 'Performance',\n",
            "       'Cluster'],\n",
            "      dtype='object')\n",
            "Coefficients: [ 5.0000000e+00 -5.0000000e+00  4.4408921e-16]\n",
            "Intercept: 54.99999999999999\n"
          ]
        }
      ]
    },
    {
      "cell_type": "code",
      "source": [
        "from sklearn.cluster import KMeans\n",
        "import matplotlib.pyplot as plt\n",
        "X = df.select_dtypes(include=['int64', 'float64'])\n",
        "\n",
        "kmeans = KMeans(n_clusters=3, random_state=42)\n",
        "df['Cluster'] = kmeans.fit_predict(X)\n",
        "feature1_column_index = 0\n",
        "feature2_column_index = 1\n",
        "plt.scatter(X.iloc[:, feature1_column_index], X.iloc[:, feature2_column_index], c=df['Cluster'])\n",
        "plt.xlabel('Feature1')\n",
        "plt.ylabel('Feature2')\n",
        "plt.title('K-means Clustering')\n",
        "plt.show()"
      ],
      "metadata": {
        "colab": {
          "base_uri": "https://localhost:8080/",
          "height": 472
        },
        "id": "hKY_X6UHEho9",
        "outputId": "e2709162-5d8a-4eb8-a326-1b081266ffbd"
      },
      "execution_count": 72,
      "outputs": [
        {
          "output_type": "display_data",
          "data": {
            "text/plain": [
              "<Figure size 640x480 with 1 Axes>"
            ],
            "image/png": "[encoded data removed]"
          },
          "metadata": {}
        }
      ]
    }
  ]
}